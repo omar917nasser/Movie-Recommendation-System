{
 "cells": [
  {
   "cell_type": "code",
   "execution_count": 1,
   "metadata": {},
   "outputs": [],
   "source": [
    "import pandas as pd\n",
    "import numpy as np\n",
    "from sklearn.feature_extraction.text import CountVectorizer\n",
    "from sklearn.metrics.pairwise import cosine_similarity\n",
    "from sklearn.preprocessing import MinMaxScaler\n",
    "from scipy.sparse import hstack , csr_matrix\n",
    "import joblib"
   ]
  },
  {
   "cell_type": "code",
   "execution_count": 2,
   "metadata": {},
   "outputs": [
    {
     "data": {
      "text/html": [
       "<div>\n",
       "<style scoped>\n",
       "    .dataframe tbody tr th:only-of-type {\n",
       "        vertical-align: middle;\n",
       "    }\n",
       "\n",
       "    .dataframe tbody tr th {\n",
       "        vertical-align: top;\n",
       "    }\n",
       "\n",
       "    .dataframe thead th {\n",
       "        text-align: right;\n",
       "    }\n",
       "</style>\n",
       "<table border=\"1\" class=\"dataframe\">\n",
       "  <thead>\n",
       "    <tr style=\"text-align: right;\">\n",
       "      <th></th>\n",
       "      <th>Unnamed: 0</th>\n",
       "      <th>tconst</th>\n",
       "      <th>nconst</th>\n",
       "      <th>directors</th>\n",
       "      <th>genres</th>\n",
       "      <th>popularity_score</th>\n",
       "    </tr>\n",
       "  </thead>\n",
       "  <tbody>\n",
       "    <tr>\n",
       "      <th>0</th>\n",
       "      <td>0</td>\n",
       "      <td>tt0000005</td>\n",
       "      <td>nm0443482</td>\n",
       "      <td>nm0005690</td>\n",
       "      <td>['short']</td>\n",
       "      <td>6.202478</td>\n",
       "    </tr>\n",
       "    <tr>\n",
       "      <th>1</th>\n",
       "      <td>1</td>\n",
       "      <td>tt0000005</td>\n",
       "      <td>nm0653042</td>\n",
       "      <td>nm0005690</td>\n",
       "      <td>['short']</td>\n",
       "      <td>6.202478</td>\n",
       "    </tr>\n",
       "    <tr>\n",
       "      <th>2</th>\n",
       "      <td>2</td>\n",
       "      <td>tt0000007</td>\n",
       "      <td>nm0179163</td>\n",
       "      <td>nm0005690</td>\n",
       "      <td>['short', ' sport']</td>\n",
       "      <td>5.317792</td>\n",
       "    </tr>\n",
       "    <tr>\n",
       "      <th>3</th>\n",
       "      <td>3</td>\n",
       "      <td>tt0000007</td>\n",
       "      <td>nm0179163</td>\n",
       "      <td>nm0374658</td>\n",
       "      <td>['short', ' sport']</td>\n",
       "      <td>5.317792</td>\n",
       "    </tr>\n",
       "    <tr>\n",
       "      <th>4</th>\n",
       "      <td>4</td>\n",
       "      <td>tt0000007</td>\n",
       "      <td>nm0183947</td>\n",
       "      <td>nm0005690</td>\n",
       "      <td>['short', ' sport']</td>\n",
       "      <td>5.317792</td>\n",
       "    </tr>\n",
       "    <tr>\n",
       "      <th>...</th>\n",
       "      <td>...</td>\n",
       "      <td>...</td>\n",
       "      <td>...</td>\n",
       "      <td>...</td>\n",
       "      <td>...</td>\n",
       "      <td>...</td>\n",
       "    </tr>\n",
       "    <tr>\n",
       "      <th>10962033</th>\n",
       "      <td>10962033</td>\n",
       "      <td>tt9916840</td>\n",
       "      <td>nm1052583</td>\n",
       "      <td>nm0996406</td>\n",
       "      <td>['adventure', ' animation', ' comedy']</td>\n",
       "      <td>6.905679</td>\n",
       "    </tr>\n",
       "    <tr>\n",
       "      <th>10962034</th>\n",
       "      <td>10962034</td>\n",
       "      <td>tt9916840</td>\n",
       "      <td>nm1052583</td>\n",
       "      <td>nm0996406</td>\n",
       "      <td>['adventure', ' animation', ' comedy']</td>\n",
       "      <td>6.905679</td>\n",
       "    </tr>\n",
       "    <tr>\n",
       "      <th>10962035</th>\n",
       "      <td>10962035</td>\n",
       "      <td>tt9916840</td>\n",
       "      <td>nm2676923</td>\n",
       "      <td>nm0996406</td>\n",
       "      <td>['adventure', ' animation', ' comedy']</td>\n",
       "      <td>6.905679</td>\n",
       "    </tr>\n",
       "    <tr>\n",
       "      <th>10962036</th>\n",
       "      <td>10962036</td>\n",
       "      <td>tt9916840</td>\n",
       "      <td>nm2676923</td>\n",
       "      <td>nm0996406</td>\n",
       "      <td>['adventure', ' animation', ' comedy']</td>\n",
       "      <td>6.905679</td>\n",
       "    </tr>\n",
       "    <tr>\n",
       "      <th>10962037</th>\n",
       "      <td>10962037</td>\n",
       "      <td>tt9916840</td>\n",
       "      <td>nm2676923</td>\n",
       "      <td>nm0996406</td>\n",
       "      <td>['adventure', ' animation', ' comedy']</td>\n",
       "      <td>6.905679</td>\n",
       "    </tr>\n",
       "  </tbody>\n",
       "</table>\n",
       "<p>10962038 rows × 6 columns</p>\n",
       "</div>"
      ],
      "text/plain": [
       "          Unnamed: 0     tconst     nconst  directors  \\\n",
       "0                  0  tt0000005  nm0443482  nm0005690   \n",
       "1                  1  tt0000005  nm0653042  nm0005690   \n",
       "2                  2  tt0000007  nm0179163  nm0005690   \n",
       "3                  3  tt0000007  nm0179163  nm0374658   \n",
       "4                  4  tt0000007  nm0183947  nm0005690   \n",
       "...              ...        ...        ...        ...   \n",
       "10962033    10962033  tt9916840  nm1052583  nm0996406   \n",
       "10962034    10962034  tt9916840  nm1052583  nm0996406   \n",
       "10962035    10962035  tt9916840  nm2676923  nm0996406   \n",
       "10962036    10962036  tt9916840  nm2676923  nm0996406   \n",
       "10962037    10962037  tt9916840  nm2676923  nm0996406   \n",
       "\n",
       "                                          genres  popularity_score  \n",
       "0                                      ['short']          6.202478  \n",
       "1                                      ['short']          6.202478  \n",
       "2                            ['short', ' sport']          5.317792  \n",
       "3                            ['short', ' sport']          5.317792  \n",
       "4                            ['short', ' sport']          5.317792  \n",
       "...                                          ...               ...  \n",
       "10962033  ['adventure', ' animation', ' comedy']          6.905679  \n",
       "10962034  ['adventure', ' animation', ' comedy']          6.905679  \n",
       "10962035  ['adventure', ' animation', ' comedy']          6.905679  \n",
       "10962036  ['adventure', ' animation', ' comedy']          6.905679  \n",
       "10962037  ['adventure', ' animation', ' comedy']          6.905679  \n",
       "\n",
       "[10962038 rows x 6 columns]"
      ]
     },
     "execution_count": 2,
     "metadata": {},
     "output_type": "execute_result"
    }
   ],
   "source": [
    "combined_df = pd.read_csv(r\"D:\\Coding\\Code\\Python\\ML\\Data\\IMDB\\Cleaned Data\\FinalCombined.csv\")\n",
    "combined_df"
   ]
  },
  {
   "cell_type": "code",
   "execution_count": 3,
   "metadata": {},
   "outputs": [
    {
     "name": "stdout",
     "output_type": "stream",
     "text": [
      "<class 'pandas.core.frame.DataFrame'>\n",
      "RangeIndex: 10962038 entries, 0 to 10962037\n",
      "Data columns (total 6 columns):\n",
      " #   Column            Dtype  \n",
      "---  ------            -----  \n",
      " 0   Unnamed: 0        int64  \n",
      " 1   tconst            object \n",
      " 2   nconst            object \n",
      " 3   directors         object \n",
      " 4   genres            object \n",
      " 5   popularity_score  float64\n",
      "dtypes: float64(1), int64(1), object(4)\n",
      "memory usage: 501.8+ MB\n",
      "None\n"
     ]
    }
   ],
   "source": [
    "print(combined_df.info())"
   ]
  },
  {
   "cell_type": "code",
   "execution_count": 4,
   "metadata": {},
   "outputs": [
    {
     "name": "stderr",
     "output_type": "stream",
     "text": [
      "c:\\Users\\omarn\\AppData\\Local\\Programs\\Python\\Python313\\Lib\\site-packages\\sklearn\\feature_extraction\\text.py:521: UserWarning: The parameter 'token_pattern' will not be used since 'tokenizer' is not None'\n",
      "  warnings.warn(\n"
     ]
    }
   ],
   "source": [
    "# Preprocess data\n",
    "# Handle genres (multi-label categorical)\n",
    "genre_vectorizer = CountVectorizer(tokenizer=lambda x: eval(x))  # Assumes genres column is stored as a stringified list\n",
    "genre_matrix = genre_vectorizer.fit_transform(combined_df['genres'].fillna('[]'))\n",
    "\n",
    "# Handle actors (nconst) and directors as text features\n",
    "actor_vectorizer = CountVectorizer()\n",
    "actor_matrix = actor_vectorizer.fit_transform(combined_df['nconst'].fillna(''))\n",
    "\n",
    "director_vectorizer = CountVectorizer()\n",
    "director_matrix = director_vectorizer.fit_transform(combined_df['directors'].fillna(''))"
   ]
  },
  {
   "cell_type": "code",
   "execution_count": 5,
   "metadata": {},
   "outputs": [],
   "source": [
    "# Normalize popularity_score\n",
    "scaler = MinMaxScaler()\n",
    "combined_df['popularity_score'] = scaler.fit_transform(combined_df[['popularity_score']])"
   ]
  },
  {
   "cell_type": "code",
   "execution_count": 6,
   "metadata": {},
   "outputs": [],
   "source": [
    "popularity_matrix = csr_matrix(np.expand_dims(combined_df['popularity_score'].values, axis=1))"
   ]
  },
  {
   "cell_type": "code",
   "execution_count": 7,
   "metadata": {},
   "outputs": [],
   "source": [
    "# Combine features for similarity computation\n",
    "genre_weight = 0.4\n",
    "actor_weight = 0.35\n",
    "director_weight = 0.2\n",
    "popularity_weight = 0.05\n",
    "\n",
    "feature_matrix = hstack([\n",
    "    genre_matrix * genre_weight,\n",
    "    actor_matrix * actor_weight,\n",
    "    director_matrix * director_weight,\n",
    "    popularity_matrix * popularity_weight\n",
    "]).tocsr()"
   ]
  },
  {
   "cell_type": "code",
   "execution_count": 8,
   "metadata": {},
   "outputs": [
    {
     "name": "stdout",
     "output_type": "stream",
     "text": [
      "Feature matrix and data saved.\n"
     ]
    }
   ],
   "source": [
    "# Save the preprocessed feature matrix and combined_df for external use\n",
    "joblib.dump((feature_matrix, combined_df), \"movie_feature_model.pkl\")\n",
    "print(\"Feature matrix and data saved.\")"
   ]
  }
 ],
 "metadata": {
  "kernelspec": {
   "display_name": "Python 3",
   "language": "python",
   "name": "python3"
  },
  "language_info": {
   "codemirror_mode": {
    "name": "ipython",
    "version": 3
   },
   "file_extension": ".py",
   "mimetype": "text/x-python",
   "name": "python",
   "nbconvert_exporter": "python",
   "pygments_lexer": "ipython3",
   "version": "3.13.1"
  }
 },
 "nbformat": 4,
 "nbformat_minor": 2
}
